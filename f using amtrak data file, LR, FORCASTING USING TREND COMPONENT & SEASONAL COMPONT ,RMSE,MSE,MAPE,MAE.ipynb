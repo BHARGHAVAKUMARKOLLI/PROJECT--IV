{
 "cells": [
  {
   "cell_type": "code",
   "execution_count": 1,
   "id": "3c638160",
   "metadata": {},
   "outputs": [],
   "source": [
    "### FORCASTING ### USING AMTRAK DATA FILE \n"
   ]
  },
  {
   "cell_type": "code",
   "execution_count": 2,
   "id": "f2fba7c8",
   "metadata": {},
   "outputs": [],
   "source": [
    "import os"
   ]
  },
  {
   "cell_type": "code",
   "execution_count": 3,
   "id": "44a99a50",
   "metadata": {},
   "outputs": [
    {
     "data": {
      "text/plain": [
       "'C:\\\\Users\\\\bharghava'"
      ]
     },
     "execution_count": 3,
     "metadata": {},
     "output_type": "execute_result"
    }
   ],
   "source": [
    "os.getcwd()"
   ]
  },
  {
   "cell_type": "code",
   "execution_count": 15,
   "id": "fd15cdc7",
   "metadata": {},
   "outputs": [],
   "source": [
    "import pandas as pd\n",
    "import numpy as np\n",
    "import matplotlib.pyplot as plt"
   ]
  },
  {
   "cell_type": "code",
   "execution_count": 49,
   "id": "8d8fad50",
   "metadata": {},
   "outputs": [],
   "source": [
    "amtrak=pd.read_csv(\"C:/Users/bharghava/Downloads/Amtrak 1.csv\")"
   ]
  },
  {
   "cell_type": "code",
   "execution_count": 50,
   "id": "a950ca57",
   "metadata": {},
   "outputs": [
    {
     "data": {
      "text/html": [
       "<div>\n",
       "<style scoped>\n",
       "    .dataframe tbody tr th:only-of-type {\n",
       "        vertical-align: middle;\n",
       "    }\n",
       "\n",
       "    .dataframe tbody tr th {\n",
       "        vertical-align: top;\n",
       "    }\n",
       "\n",
       "    .dataframe thead th {\n",
       "        text-align: right;\n",
       "    }\n",
       "</style>\n",
       "<table border=\"1\" class=\"dataframe\">\n",
       "  <thead>\n",
       "    <tr style=\"text-align: right;\">\n",
       "      <th></th>\n",
       "      <th>Month</th>\n",
       "      <th>Ridership</th>\n",
       "    </tr>\n",
       "  </thead>\n",
       "  <tbody>\n",
       "    <tr>\n",
       "      <th>0</th>\n",
       "      <td>01/01/1991</td>\n",
       "      <td>1708.917</td>\n",
       "    </tr>\n",
       "    <tr>\n",
       "      <th>1</th>\n",
       "      <td>01/02/1991</td>\n",
       "      <td>1620.586</td>\n",
       "    </tr>\n",
       "    <tr>\n",
       "      <th>2</th>\n",
       "      <td>01/03/1991</td>\n",
       "      <td>1972.715</td>\n",
       "    </tr>\n",
       "    <tr>\n",
       "      <th>3</th>\n",
       "      <td>01/04/1991</td>\n",
       "      <td>1811.665</td>\n",
       "    </tr>\n",
       "    <tr>\n",
       "      <th>4</th>\n",
       "      <td>01/05/1991</td>\n",
       "      <td>1974.964</td>\n",
       "    </tr>\n",
       "  </tbody>\n",
       "</table>\n",
       "</div>"
      ],
      "text/plain": [
       "        Month  Ridership\n",
       "0  01/01/1991   1708.917\n",
       "1  01/02/1991   1620.586\n",
       "2  01/03/1991   1972.715\n",
       "3  01/04/1991   1811.665\n",
       "4  01/05/1991   1974.964"
      ]
     },
     "execution_count": 50,
     "metadata": {},
     "output_type": "execute_result"
    }
   ],
   "source": [
    "amtrak.head()"
   ]
  },
  {
   "cell_type": "code",
   "execution_count": 51,
   "id": "9968e471",
   "metadata": {},
   "outputs": [
    {
     "name": "stdout",
     "output_type": "stream",
     "text": [
      "<class 'pandas.core.frame.DataFrame'>\n",
      "RangeIndex: 159 entries, 0 to 158\n",
      "Data columns (total 2 columns):\n",
      " #   Column     Non-Null Count  Dtype  \n",
      "---  ------     --------------  -----  \n",
      " 0   Month      159 non-null    object \n",
      " 1   Ridership  159 non-null    float64\n",
      "dtypes: float64(1), object(1)\n",
      "memory usage: 2.6+ KB\n"
     ]
    }
   ],
   "source": [
    "amtrak.info()"
   ]
  },
  {
   "cell_type": "code",
   "execution_count": 52,
   "id": "98a8418a",
   "metadata": {},
   "outputs": [
    {
     "data": {
      "text/html": [
       "<div>\n",
       "<style scoped>\n",
       "    .dataframe tbody tr th:only-of-type {\n",
       "        vertical-align: middle;\n",
       "    }\n",
       "\n",
       "    .dataframe tbody tr th {\n",
       "        vertical-align: top;\n",
       "    }\n",
       "\n",
       "    .dataframe thead th {\n",
       "        text-align: right;\n",
       "    }\n",
       "</style>\n",
       "<table border=\"1\" class=\"dataframe\">\n",
       "  <thead>\n",
       "    <tr style=\"text-align: right;\">\n",
       "      <th></th>\n",
       "      <th>Ridership</th>\n",
       "    </tr>\n",
       "  </thead>\n",
       "  <tbody>\n",
       "    <tr>\n",
       "      <th>count</th>\n",
       "      <td>159.000000</td>\n",
       "    </tr>\n",
       "    <tr>\n",
       "      <th>mean</th>\n",
       "      <td>1822.197208</td>\n",
       "    </tr>\n",
       "    <tr>\n",
       "      <th>std</th>\n",
       "      <td>181.636034</td>\n",
       "    </tr>\n",
       "    <tr>\n",
       "      <th>min</th>\n",
       "      <td>1360.852000</td>\n",
       "    </tr>\n",
       "    <tr>\n",
       "      <th>25%</th>\n",
       "      <td>1698.564500</td>\n",
       "    </tr>\n",
       "    <tr>\n",
       "      <th>50%</th>\n",
       "      <td>1831.049000</td>\n",
       "    </tr>\n",
       "    <tr>\n",
       "      <th>75%</th>\n",
       "      <td>1966.957500</td>\n",
       "    </tr>\n",
       "    <tr>\n",
       "      <th>max</th>\n",
       "      <td>2223.349000</td>\n",
       "    </tr>\n",
       "  </tbody>\n",
       "</table>\n",
       "</div>"
      ],
      "text/plain": [
       "         Ridership\n",
       "count   159.000000\n",
       "mean   1822.197208\n",
       "std     181.636034\n",
       "min    1360.852000\n",
       "25%    1698.564500\n",
       "50%    1831.049000\n",
       "75%    1966.957500\n",
       "max    2223.349000"
      ]
     },
     "execution_count": 52,
     "metadata": {},
     "output_type": "execute_result"
    }
   ],
   "source": [
    "amtrak.describe()"
   ]
  },
  {
   "cell_type": "code",
   "execution_count": 53,
   "id": "0927c8a9",
   "metadata": {},
   "outputs": [
    {
     "data": {
      "text/plain": [
       "(159, 2)"
      ]
     },
     "execution_count": 53,
     "metadata": {},
     "output_type": "execute_result"
    }
   ],
   "source": [
    "amtrak.shape"
   ]
  },
  {
   "cell_type": "code",
   "execution_count": 55,
   "id": "d6218845",
   "metadata": {},
   "outputs": [
    {
     "data": {
      "text/html": [
       "<div>\n",
       "<style scoped>\n",
       "    .dataframe tbody tr th:only-of-type {\n",
       "        vertical-align: middle;\n",
       "    }\n",
       "\n",
       "    .dataframe tbody tr th {\n",
       "        vertical-align: top;\n",
       "    }\n",
       "\n",
       "    .dataframe thead th {\n",
       "        text-align: right;\n",
       "    }\n",
       "</style>\n",
       "<table border=\"1\" class=\"dataframe\">\n",
       "  <thead>\n",
       "    <tr style=\"text-align: right;\">\n",
       "      <th></th>\n",
       "      <th>Month</th>\n",
       "      <th>Ridership</th>\n",
       "      <th>month_num</th>\n",
       "    </tr>\n",
       "  </thead>\n",
       "  <tbody>\n",
       "    <tr>\n",
       "      <th>0</th>\n",
       "      <td>01/01/1991</td>\n",
       "      <td>1708.917</td>\n",
       "      <td>1</td>\n",
       "    </tr>\n",
       "    <tr>\n",
       "      <th>1</th>\n",
       "      <td>01/02/1991</td>\n",
       "      <td>1620.586</td>\n",
       "      <td>2</td>\n",
       "    </tr>\n",
       "    <tr>\n",
       "      <th>2</th>\n",
       "      <td>01/03/1991</td>\n",
       "      <td>1972.715</td>\n",
       "      <td>3</td>\n",
       "    </tr>\n",
       "    <tr>\n",
       "      <th>3</th>\n",
       "      <td>01/04/1991</td>\n",
       "      <td>1811.665</td>\n",
       "      <td>4</td>\n",
       "    </tr>\n",
       "    <tr>\n",
       "      <th>4</th>\n",
       "      <td>01/05/1991</td>\n",
       "      <td>1974.964</td>\n",
       "      <td>5</td>\n",
       "    </tr>\n",
       "  </tbody>\n",
       "</table>\n",
       "</div>"
      ],
      "text/plain": [
       "        Month  Ridership  month_num\n",
       "0  01/01/1991   1708.917          1\n",
       "1  01/02/1991   1620.586          2\n",
       "2  01/03/1991   1972.715          3\n",
       "3  01/04/1991   1811.665          4\n",
       "4  01/05/1991   1974.964          5"
      ]
     },
     "execution_count": 55,
     "metadata": {},
     "output_type": "execute_result"
    }
   ],
   "source": [
    "amtrak[\"month_num\"]=range(1,160)\n",
    "amtrak.head()"
   ]
  },
  {
   "cell_type": "code",
   "execution_count": 56,
   "id": "9bbd02c6",
   "metadata": {},
   "outputs": [
    {
     "data": {
      "text/html": [
       "<div>\n",
       "<style scoped>\n",
       "    .dataframe tbody tr th:only-of-type {\n",
       "        vertical-align: middle;\n",
       "    }\n",
       "\n",
       "    .dataframe tbody tr th {\n",
       "        vertical-align: top;\n",
       "    }\n",
       "\n",
       "    .dataframe thead th {\n",
       "        text-align: right;\n",
       "    }\n",
       "</style>\n",
       "<table border=\"1\" class=\"dataframe\">\n",
       "  <thead>\n",
       "    <tr style=\"text-align: right;\">\n",
       "      <th></th>\n",
       "      <th>Month</th>\n",
       "      <th>Ridership</th>\n",
       "      <th>month_num</th>\n",
       "    </tr>\n",
       "  </thead>\n",
       "  <tbody>\n",
       "    <tr>\n",
       "      <th>154</th>\n",
       "      <td>01/11/2003</td>\n",
       "      <td>2076.054</td>\n",
       "      <td>155</td>\n",
       "    </tr>\n",
       "    <tr>\n",
       "      <th>155</th>\n",
       "      <td>01/12/2003</td>\n",
       "      <td>2140.677</td>\n",
       "      <td>156</td>\n",
       "    </tr>\n",
       "    <tr>\n",
       "      <th>156</th>\n",
       "      <td>01/01/2004</td>\n",
       "      <td>1831.508</td>\n",
       "      <td>157</td>\n",
       "    </tr>\n",
       "    <tr>\n",
       "      <th>157</th>\n",
       "      <td>01/02/2004</td>\n",
       "      <td>1838.006</td>\n",
       "      <td>158</td>\n",
       "    </tr>\n",
       "    <tr>\n",
       "      <th>158</th>\n",
       "      <td>01/03/2004</td>\n",
       "      <td>2132.446</td>\n",
       "      <td>159</td>\n",
       "    </tr>\n",
       "  </tbody>\n",
       "</table>\n",
       "</div>"
      ],
      "text/plain": [
       "          Month  Ridership  month_num\n",
       "154  01/11/2003   2076.054        155\n",
       "155  01/12/2003   2140.677        156\n",
       "156  01/01/2004   1831.508        157\n",
       "157  01/02/2004   1838.006        158\n",
       "158  01/03/2004   2132.446        159"
      ]
     },
     "execution_count": 56,
     "metadata": {},
     "output_type": "execute_result"
    }
   ],
   "source": [
    "amtrak.tail()"
   ]
  },
  {
   "cell_type": "code",
   "execution_count": 60,
   "id": "53bb32a1",
   "metadata": {},
   "outputs": [
    {
     "data": {
      "text/plain": [
       "[<matplotlib.lines.Line2D at 0x131ca251670>]"
      ]
     },
     "execution_count": 60,
     "metadata": {},
     "output_type": "execute_result"
    },
    {
     "data": {
      "image/png": "[encoded data removed]",
      "text/plain": [
       "<Figure size 432x288 with 1 Axes>"
      ]
     },
     "metadata": {
      "needs_background": "light"
     },
     "output_type": "display_data"
    }
   ],
   "source": [
    "plt.plot(amtrak.Month)\n"
   ]
  },
  {
   "cell_type": "code",
   "execution_count": 61,
   "id": "27aad093",
   "metadata": {},
   "outputs": [
    {
     "data": {
      "text/plain": [
       "[<matplotlib.lines.Line2D at 0x131ca3dff70>]"
      ]
     },
     "execution_count": 61,
     "metadata": {},
     "output_type": "execute_result"
    },
    {
     "data": {
      "image/png": "[encoded data removed]",
      "text/plain": [
       "<Figure size 432x288 with 1 Axes>"
      ]
     },
     "metadata": {
      "needs_background": "light"
     },
     "output_type": "display_data"
    }
   ],
   "source": [
    "\n",
    "plt.plot(amtrak.Ridership)"
   ]
  },
  {
   "cell_type": "code",
   "execution_count": 63,
   "id": "3c8a27c8",
   "metadata": {},
   "outputs": [
    {
     "data": {
      "text/html": [
       "<div>\n",
       "<style scoped>\n",
       "    .dataframe tbody tr th:only-of-type {\n",
       "        vertical-align: middle;\n",
       "    }\n",
       "\n",
       "    .dataframe tbody tr th {\n",
       "        vertical-align: top;\n",
       "    }\n",
       "\n",
       "    .dataframe thead th {\n",
       "        text-align: right;\n",
       "    }\n",
       "</style>\n",
       "<table border=\"1\" class=\"dataframe\">\n",
       "  <thead>\n",
       "    <tr style=\"text-align: right;\">\n",
       "      <th></th>\n",
       "      <th>Month</th>\n",
       "      <th>Ridership</th>\n",
       "      <th>month_num</th>\n",
       "      <th>Date</th>\n",
       "    </tr>\n",
       "  </thead>\n",
       "  <tbody>\n",
       "    <tr>\n",
       "      <th>0</th>\n",
       "      <td>01/01/1991</td>\n",
       "      <td>1708.917</td>\n",
       "      <td>1</td>\n",
       "      <td>1991-01-01</td>\n",
       "    </tr>\n",
       "    <tr>\n",
       "      <th>1</th>\n",
       "      <td>01/02/1991</td>\n",
       "      <td>1620.586</td>\n",
       "      <td>2</td>\n",
       "      <td>1991-02-01</td>\n",
       "    </tr>\n",
       "    <tr>\n",
       "      <th>2</th>\n",
       "      <td>01/03/1991</td>\n",
       "      <td>1972.715</td>\n",
       "      <td>3</td>\n",
       "      <td>1991-03-01</td>\n",
       "    </tr>\n",
       "    <tr>\n",
       "      <th>3</th>\n",
       "      <td>01/04/1991</td>\n",
       "      <td>1811.665</td>\n",
       "      <td>4</td>\n",
       "      <td>1991-04-01</td>\n",
       "    </tr>\n",
       "    <tr>\n",
       "      <th>4</th>\n",
       "      <td>01/05/1991</td>\n",
       "      <td>1974.964</td>\n",
       "      <td>5</td>\n",
       "      <td>1991-05-01</td>\n",
       "    </tr>\n",
       "  </tbody>\n",
       "</table>\n",
       "</div>"
      ],
      "text/plain": [
       "        Month  Ridership  month_num       Date\n",
       "0  01/01/1991   1708.917          1 1991-01-01\n",
       "1  01/02/1991   1620.586          2 1991-02-01\n",
       "2  01/03/1991   1972.715          3 1991-03-01\n",
       "3  01/04/1991   1811.665          4 1991-04-01\n",
       "4  01/05/1991   1974.964          5 1991-05-01"
      ]
     },
     "execution_count": 63,
     "metadata": {},
     "output_type": "execute_result"
    }
   ],
   "source": [
    "# Converting the month data for creating the datetime object \n",
    "amtrak[\"Date\"] = pd.to_datetime(amtrak.Month,format=\"%d/%m/%Y\")\n",
    "amtrak.head()"
   ]
  },
  {
   "cell_type": "code",
   "execution_count": 64,
   "id": "35e5a912",
   "metadata": {},
   "outputs": [
    {
     "name": "stdout",
     "output_type": "stream",
     "text": [
      "<class 'pandas.core.frame.DataFrame'>\n",
      "RangeIndex: 159 entries, 0 to 158\n",
      "Data columns (total 4 columns):\n",
      " #   Column     Non-Null Count  Dtype         \n",
      "---  ------     --------------  -----         \n",
      " 0   Month      159 non-null    object        \n",
      " 1   Ridership  159 non-null    float64       \n",
      " 2   month_num  159 non-null    int32         \n",
      " 3   Date       159 non-null    datetime64[ns]\n",
      "dtypes: datetime64[ns](1), float64(1), int32(1), object(1)\n",
      "memory usage: 4.5+ KB\n"
     ]
    }
   ],
   "source": [
    "amtrak.info() # TO Show the information about amtrak data file and its datatype"
   ]
  },
  {
   "cell_type": "code",
   "execution_count": 66,
   "id": "b7f0ffc7",
   "metadata": {},
   "outputs": [
    {
     "data": {
      "text/plain": [
       "Index(['Month', 'Ridership', 'month_num', 'Date'], dtype='object')"
      ]
     },
     "execution_count": 66,
     "metadata": {},
     "output_type": "execute_result"
    }
   ],
   "source": [
    "amtrak.columns # TO SHOW THE COLUMNS OF THE DATAFILE(AMTRAK)"
   ]
  },
  {
   "cell_type": "code",
   "execution_count": 80,
   "id": "4c84a21b",
   "metadata": {},
   "outputs": [
    {
     "ename": "SyntaxError",
     "evalue": "invalid syntax (<ipython-input-80-f71ca058936c>, line 1)",
     "output_type": "error",
     "traceback": [
      "\u001b[1;36m  File \u001b[1;32m\"<ipython-input-80-f71ca058936c>\"\u001b[1;36m, line \u001b[1;32m1\u001b[0m\n\u001b[1;33m    amtrak.drop[\"Month\", inplace=True, axis = 1]\u001b[0m\n\u001b[1;37m                                ^\u001b[0m\n\u001b[1;31mSyntaxError\u001b[0m\u001b[1;31m:\u001b[0m invalid syntax\n"
     ]
    }
   ],
   "source": [
    "\n",
    "amtrak.drop[\"Month\", inplace=True, axis = 1]"
   ]
  },
  {
   "cell_type": "code",
   "execution_count": 147,
   "id": "1010cd44",
   "metadata": {},
   "outputs": [],
   "source": [
    "# Extracting the month and year from the datatime object\n",
    "amtrak[\"month\"]= amtrak.Date.dt.strftime(\"%b\")\n",
    "amtrak[\"year\"]= amtrak.Date.dt.strftime(\"%b - %y\")"
   ]
  },
  {
   "cell_type": "code",
   "execution_count": 148,
   "id": "7464d472",
   "metadata": {},
   "outputs": [
    {
     "data": {
      "text/html": [
       "<div>\n",
       "<style scoped>\n",
       "    .dataframe tbody tr th:only-of-type {\n",
       "        vertical-align: middle;\n",
       "    }\n",
       "\n",
       "    .dataframe tbody tr th {\n",
       "        vertical-align: top;\n",
       "    }\n",
       "\n",
       "    .dataframe thead th {\n",
       "        text-align: right;\n",
       "    }\n",
       "</style>\n",
       "<table border=\"1\" class=\"dataframe\">\n",
       "  <thead>\n",
       "    <tr style=\"text-align: right;\">\n",
       "      <th></th>\n",
       "      <th>Ridership</th>\n",
       "      <th>month_num</th>\n",
       "      <th>Date</th>\n",
       "      <th>month</th>\n",
       "      <th>year</th>\n",
       "    </tr>\n",
       "    <tr>\n",
       "      <th>year</th>\n",
       "      <th></th>\n",
       "      <th></th>\n",
       "      <th></th>\n",
       "      <th></th>\n",
       "      <th></th>\n",
       "    </tr>\n",
       "  </thead>\n",
       "  <tbody>\n",
       "    <tr>\n",
       "      <th>Jan - 91</th>\n",
       "      <td>1708.917</td>\n",
       "      <td>1</td>\n",
       "      <td>1991-01-01</td>\n",
       "      <td>Jan</td>\n",
       "      <td>Jan - 91</td>\n",
       "    </tr>\n",
       "    <tr>\n",
       "      <th>Feb - 91</th>\n",
       "      <td>1620.586</td>\n",
       "      <td>2</td>\n",
       "      <td>1991-02-01</td>\n",
       "      <td>Feb</td>\n",
       "      <td>Feb - 91</td>\n",
       "    </tr>\n",
       "    <tr>\n",
       "      <th>Mar - 91</th>\n",
       "      <td>1972.715</td>\n",
       "      <td>3</td>\n",
       "      <td>1991-03-01</td>\n",
       "      <td>Mar</td>\n",
       "      <td>Mar - 91</td>\n",
       "    </tr>\n",
       "    <tr>\n",
       "      <th>Apr - 91</th>\n",
       "      <td>1811.665</td>\n",
       "      <td>4</td>\n",
       "      <td>1991-04-01</td>\n",
       "      <td>Apr</td>\n",
       "      <td>Apr - 91</td>\n",
       "    </tr>\n",
       "    <tr>\n",
       "      <th>May - 91</th>\n",
       "      <td>1974.964</td>\n",
       "      <td>5</td>\n",
       "      <td>1991-05-01</td>\n",
       "      <td>May</td>\n",
       "      <td>May - 91</td>\n",
       "    </tr>\n",
       "  </tbody>\n",
       "</table>\n",
       "</div>"
      ],
      "text/plain": [
       "          Ridership  month_num       Date month      year\n",
       "year                                                     \n",
       "Jan - 91   1708.917          1 1991-01-01   Jan  Jan - 91\n",
       "Feb - 91   1620.586          2 1991-02-01   Feb  Feb - 91\n",
       "Mar - 91   1972.715          3 1991-03-01   Mar  Mar - 91\n",
       "Apr - 91   1811.665          4 1991-04-01   Apr  Apr - 91\n",
       "May - 91   1974.964          5 1991-05-01   May  May - 91"
      ]
     },
     "execution_count": 148,
     "metadata": {},
     "output_type": "execute_result"
    }
   ],
   "source": [
    "amtrak.head()"
   ]
  },
  {
   "cell_type": "code",
   "execution_count": 85,
   "id": "d09612c1",
   "metadata": {},
   "outputs": [],
   "source": [
    "# Creating the array of numpy to work on the simple linear regression ( converts the array into single column)\n",
    "X = np.array(amtrak['month_num']).reshape(-1, 1)\n",
    "y = np.array(amtrak['Ridership']).reshape(-1, 1)"
   ]
  },
  {
   "cell_type": "code",
   "execution_count": 86,
   "id": "f1137b33",
   "metadata": {},
   "outputs": [],
   "source": [
    "# Splitting the data into test and train \n",
    "train_x = X[0:144]\n",
    "train_y = y[0:144]"
   ]
  },
  {
   "cell_type": "code",
   "execution_count": 88,
   "id": "0af09617",
   "metadata": {},
   "outputs": [
    {
     "data": {
      "text/plain": [
       "(144, 1)"
      ]
     },
     "execution_count": 88,
     "metadata": {},
     "output_type": "execute_result"
    }
   ],
   "source": [
    "train_x.shape"
   ]
  },
  {
   "cell_type": "code",
   "execution_count": null,
   "id": "353db27e",
   "metadata": {},
   "outputs": [],
   "source": []
  },
  {
   "cell_type": "code",
   "execution_count": 89,
   "id": "93f5e41e",
   "metadata": {},
   "outputs": [
    {
     "data": {
      "text/plain": [
       "(144, 1)"
      ]
     },
     "execution_count": 89,
     "metadata": {},
     "output_type": "execute_result"
    }
   ],
   "source": [
    "train_y.shape"
   ]
  },
  {
   "cell_type": "code",
   "execution_count": 90,
   "id": "d9688163",
   "metadata": {},
   "outputs": [],
   "source": [
    "test_x = X[144:159]\n",
    "test_y = y[144:159]"
   ]
  },
  {
   "cell_type": "code",
   "execution_count": 91,
   "id": "ca6558bd",
   "metadata": {},
   "outputs": [
    {
     "data": {
      "text/plain": [
       "(15, 1)"
      ]
     },
     "execution_count": 91,
     "metadata": {},
     "output_type": "execute_result"
    }
   ],
   "source": [
    "test_x.shape"
   ]
  },
  {
   "cell_type": "code",
   "execution_count": 92,
   "id": "d51965bb",
   "metadata": {},
   "outputs": [
    {
     "data": {
      "text/plain": [
       "(15, 1)"
      ]
     },
     "execution_count": 92,
     "metadata": {},
     "output_type": "execute_result"
    }
   ],
   "source": [
    "test_y.shape"
   ]
  },
  {
   "cell_type": "code",
   "execution_count": 93,
   "id": "6f1e97b4",
   "metadata": {},
   "outputs": [],
   "source": [
    "# Creating the linear regression model\n",
    "from sklearn.linear_model import LinearRegression as LR"
   ]
  },
  {
   "cell_type": "code",
   "execution_count": 94,
   "id": "f5848579",
   "metadata": {},
   "outputs": [],
   "source": [
    "## MODEL TUNNING\n",
    "LR_forcast = LR()"
   ]
  },
  {
   "cell_type": "code",
   "execution_count": 95,
   "id": "a9730806",
   "metadata": {},
   "outputs": [
    {
     "data": {
      "text/plain": [
       "LinearRegression()"
      ]
     },
     "execution_count": 95,
     "metadata": {},
     "output_type": "execute_result"
    }
   ],
   "source": [
    "## FItting the model\n",
    "LR_forcast.fit(train_x,train_y)"
   ]
  },
  {
   "cell_type": "code",
   "execution_count": 96,
   "id": "0f4f388f",
   "metadata": {},
   "outputs": [],
   "source": [
    "## Predicting the model\n",
    "pred_y = LR_forcast.predict(test_x)"
   ]
  },
  {
   "cell_type": "code",
   "execution_count": 97,
   "id": "bc998957",
   "metadata": {},
   "outputs": [
    {
     "data": {
      "text/plain": [
       "-0.7112091176333939"
      ]
     },
     "execution_count": 97,
     "metadata": {},
     "output_type": "execute_result"
    }
   ],
   "source": [
    "### find the accuracy of the model\n",
    "LR_forcast.score(test_x,test_y)\n"
   ]
  },
  {
   "cell_type": "code",
   "execution_count": 99,
   "id": "d0ac3f7b",
   "metadata": {},
   "outputs": [
    {
     "data": {
      "text/plain": [
       "array([[1.22573208]])"
      ]
     },
     "execution_count": 99,
     "metadata": {},
     "output_type": "execute_result"
    }
   ],
   "source": [
    "# to see the coefficients of  a model\n",
    "LR_forcast.coef_\n"
   ]
  },
  {
   "cell_type": "code",
   "execution_count": 107,
   "id": "88ea37a6",
   "metadata": {},
   "outputs": [
    {
     "name": "stdout",
     "output_type": "stream",
     "text": [
      "prediction for forcasting [[1889.79]\n",
      " [1891.01]\n",
      " [1892.24]\n",
      " [1893.46]\n",
      " [1894.69]\n",
      " [1895.92]\n",
      " [1897.14]\n",
      " [1898.37]\n",
      " [1899.59]\n",
      " [1900.82]\n",
      " [1902.04]\n",
      " [1903.27]\n",
      " [1904.5 ]\n",
      " [1905.72]\n",
      " [1906.95]]\n"
     ]
    }
   ],
   "source": [
    "## predict the forcasting \n",
    "predict = LR_forcast.predict(test_x)\n",
    "predict = np.round(predict,decimals= 2)\n",
    "print('prediction for forcasting', predict)"
   ]
  },
  {
   "cell_type": "code",
   "execution_count": 109,
   "id": "46f4b6ec",
   "metadata": {},
   "outputs": [
    {
     "name": "stdout",
     "output_type": "stream",
     "text": [
      "next three months forcast is [[160]\n",
      " [161]\n",
      " [162]]\n"
     ]
    }
   ],
   "source": [
    "# Creating the forcast for the next three months\n",
    "forcast_x = np.array([160,161,162]).reshape(-1, 1)\n",
    "print('next three months forcast is',forcast_x)"
   ]
  },
  {
   "cell_type": "code",
   "execution_count": 110,
   "id": "b95267d3",
   "metadata": {},
   "outputs": [
    {
     "data": {
      "text/plain": [
       "array([[160],\n",
       "       [161],\n",
       "       [162]])"
      ]
     },
     "execution_count": 110,
     "metadata": {},
     "output_type": "execute_result"
    }
   ],
   "source": [
    "#forcast_x\n"
   ]
  },
  {
   "cell_type": "code",
   "execution_count": 112,
   "id": "11914bcd",
   "metadata": {},
   "outputs": [
    {
     "name": "stdout",
     "output_type": "stream",
     "text": [
      "next three months forcast is [[1908.1724665 ]\n",
      " [1909.39819857]\n",
      " [1910.62393065]]\n"
     ]
    }
   ],
   "source": [
    "# Forcast of the month of APR, May , Jun 2004\n",
    "forcast_y = LR_forcast.predict(forcast_x)\n",
    "print('next three months forcast is', forcast_y)"
   ]
  },
  {
   "cell_type": "code",
   "execution_count": 118,
   "id": "fcd6638e",
   "metadata": {},
   "outputs": [
    {
     "data": {
      "text/plain": [
       "[<matplotlib.lines.Line2D at 0x131cca6eaf0>]"
      ]
     },
     "execution_count": 118,
     "metadata": {},
     "output_type": "execute_result"
    },
    {
     "data": {
      "image/png": "[encoded data removed]",
      "text/plain": [
       "<Figure size 432x288 with 1 Axes>"
      ]
     },
     "metadata": {
      "needs_background": "light"
     },
     "output_type": "display_data"
    }
   ],
   "source": [
    "plt.plot(amtrak.Ridership)\n",
    "\n"
   ]
  },
  {
   "cell_type": "code",
   "execution_count": 119,
   "id": "cf1b282b",
   "metadata": {},
   "outputs": [
    {
     "data": {
      "text/plain": [
       "[<matplotlib.lines.Line2D at 0x131cca4a910>]"
      ]
     },
     "execution_count": 119,
     "metadata": {},
     "output_type": "execute_result"
    },
    {
     "data": {
      "image/png": "[encoded data removed]",
      "text/plain": [
       "<Figure size 432x288 with 1 Axes>"
      ]
     },
     "metadata": {
      "needs_background": "light"
     },
     "output_type": "display_data"
    }
   ],
   "source": [
    "plt.plot(forcast_y)"
   ]
  },
  {
   "cell_type": "code",
   "execution_count": 120,
   "id": "5e38a1e9",
   "metadata": {},
   "outputs": [
    {
     "data": {
      "text/plain": [
       "[<matplotlib.lines.Line2D at 0x131cd18c3d0>]"
      ]
     },
     "execution_count": 120,
     "metadata": {},
     "output_type": "execute_result"
    },
    {
     "data": {
      "image/png": "[encoded data removed]",
      "text/plain": [
       "<Figure size 432x288 with 1 Axes>"
      ]
     },
     "metadata": {
      "needs_background": "light"
     },
     "output_type": "display_data"
    }
   ],
   "source": [
    "\n",
    "plt.plot(amtrak.Ridership)\n",
    "plt.plot(forcast_y)\n"
   ]
  },
  {
   "cell_type": "code",
   "execution_count": 121,
   "id": "4e0253ff",
   "metadata": {},
   "outputs": [],
   "source": [
    "amtrak.set_index(\"year\",inplace = True)"
   ]
  },
  {
   "cell_type": "code",
   "execution_count": 149,
   "id": "6ae09ca5",
   "metadata": {},
   "outputs": [
    {
     "data": {
      "text/plain": [
       "[<matplotlib.lines.Line2D at 0x131cd38ca90>]"
      ]
     },
     "execution_count": 149,
     "metadata": {},
     "output_type": "execute_result"
    },
    {
     "data": {
      "image/png": "[encoded data removed]",
      "text/plain": [
       "<Figure size 432x288 with 1 Axes>"
      ]
     },
     "metadata": {
      "needs_background": "light"
     },
     "output_type": "display_data"
    }
   ],
   "source": [
    "plt.plot(amtrak.Ridership)"
   ]
  },
  {
   "cell_type": "code",
   "execution_count": 150,
   "id": "ed533994",
   "metadata": {},
   "outputs": [
    {
     "data": {
      "text/html": [
       "<div>\n",
       "<style scoped>\n",
       "    .dataframe tbody tr th:only-of-type {\n",
       "        vertical-align: middle;\n",
       "    }\n",
       "\n",
       "    .dataframe tbody tr th {\n",
       "        vertical-align: top;\n",
       "    }\n",
       "\n",
       "    .dataframe thead th {\n",
       "        text-align: right;\n",
       "    }\n",
       "</style>\n",
       "<table border=\"1\" class=\"dataframe\">\n",
       "  <thead>\n",
       "    <tr style=\"text-align: right;\">\n",
       "      <th></th>\n",
       "      <th>Ridership</th>\n",
       "      <th>month_num</th>\n",
       "      <th>Date</th>\n",
       "      <th>month</th>\n",
       "      <th>year</th>\n",
       "    </tr>\n",
       "    <tr>\n",
       "      <th>year</th>\n",
       "      <th></th>\n",
       "      <th></th>\n",
       "      <th></th>\n",
       "      <th></th>\n",
       "      <th></th>\n",
       "    </tr>\n",
       "  </thead>\n",
       "  <tbody>\n",
       "    <tr>\n",
       "      <th>Jan - 91</th>\n",
       "      <td>1708.917</td>\n",
       "      <td>1</td>\n",
       "      <td>1991-01-01</td>\n",
       "      <td>Jan</td>\n",
       "      <td>Jan - 91</td>\n",
       "    </tr>\n",
       "    <tr>\n",
       "      <th>Feb - 91</th>\n",
       "      <td>1620.586</td>\n",
       "      <td>2</td>\n",
       "      <td>1991-02-01</td>\n",
       "      <td>Feb</td>\n",
       "      <td>Feb - 91</td>\n",
       "    </tr>\n",
       "    <tr>\n",
       "      <th>Mar - 91</th>\n",
       "      <td>1972.715</td>\n",
       "      <td>3</td>\n",
       "      <td>1991-03-01</td>\n",
       "      <td>Mar</td>\n",
       "      <td>Mar - 91</td>\n",
       "    </tr>\n",
       "    <tr>\n",
       "      <th>Apr - 91</th>\n",
       "      <td>1811.665</td>\n",
       "      <td>4</td>\n",
       "      <td>1991-04-01</td>\n",
       "      <td>Apr</td>\n",
       "      <td>Apr - 91</td>\n",
       "    </tr>\n",
       "    <tr>\n",
       "      <th>May - 91</th>\n",
       "      <td>1974.964</td>\n",
       "      <td>5</td>\n",
       "      <td>1991-05-01</td>\n",
       "      <td>May</td>\n",
       "      <td>May - 91</td>\n",
       "    </tr>\n",
       "  </tbody>\n",
       "</table>\n",
       "</div>"
      ],
      "text/plain": [
       "          Ridership  month_num       Date month      year\n",
       "year                                                     \n",
       "Jan - 91   1708.917          1 1991-01-01   Jan  Jan - 91\n",
       "Feb - 91   1620.586          2 1991-02-01   Feb  Feb - 91\n",
       "Mar - 91   1972.715          3 1991-03-01   Mar  Mar - 91\n",
       "Apr - 91   1811.665          4 1991-04-01   Apr  Apr - 91\n",
       "May - 91   1974.964          5 1991-05-01   May  May - 91"
      ]
     },
     "execution_count": 150,
     "metadata": {},
     "output_type": "execute_result"
    }
   ],
   "source": [
    "amtrak.head()\n"
   ]
  },
  {
   "cell_type": "code",
   "execution_count": 152,
   "id": "29bb637f",
   "metadata": {},
   "outputs": [
    {
     "data": {
      "text/html": [
       "<div>\n",
       "<style scoped>\n",
       "    .dataframe tbody tr th:only-of-type {\n",
       "        vertical-align: middle;\n",
       "    }\n",
       "\n",
       "    .dataframe tbody tr th {\n",
       "        vertical-align: top;\n",
       "    }\n",
       "\n",
       "    .dataframe thead th {\n",
       "        text-align: right;\n",
       "    }\n",
       "</style>\n",
       "<table border=\"1\" class=\"dataframe\">\n",
       "  <thead>\n",
       "    <tr style=\"text-align: right;\">\n",
       "      <th></th>\n",
       "      <th>Ridership</th>\n",
       "      <th>month_num</th>\n",
       "      <th>Date</th>\n",
       "      <th>month</th>\n",
       "      <th>year</th>\n",
       "    </tr>\n",
       "    <tr>\n",
       "      <th>year</th>\n",
       "      <th></th>\n",
       "      <th></th>\n",
       "      <th></th>\n",
       "      <th></th>\n",
       "      <th></th>\n",
       "    </tr>\n",
       "  </thead>\n",
       "  <tbody>\n",
       "    <tr>\n",
       "      <th>Nov - 03</th>\n",
       "      <td>2076.054</td>\n",
       "      <td>155</td>\n",
       "      <td>2003-11-01</td>\n",
       "      <td>Nov</td>\n",
       "      <td>Nov - 03</td>\n",
       "    </tr>\n",
       "    <tr>\n",
       "      <th>Dec - 03</th>\n",
       "      <td>2140.677</td>\n",
       "      <td>156</td>\n",
       "      <td>2003-12-01</td>\n",
       "      <td>Dec</td>\n",
       "      <td>Dec - 03</td>\n",
       "    </tr>\n",
       "    <tr>\n",
       "      <th>Jan - 04</th>\n",
       "      <td>1831.508</td>\n",
       "      <td>157</td>\n",
       "      <td>2004-01-01</td>\n",
       "      <td>Jan</td>\n",
       "      <td>Jan - 04</td>\n",
       "    </tr>\n",
       "    <tr>\n",
       "      <th>Feb - 04</th>\n",
       "      <td>1838.006</td>\n",
       "      <td>158</td>\n",
       "      <td>2004-02-01</td>\n",
       "      <td>Feb</td>\n",
       "      <td>Feb - 04</td>\n",
       "    </tr>\n",
       "    <tr>\n",
       "      <th>Mar - 04</th>\n",
       "      <td>2132.446</td>\n",
       "      <td>159</td>\n",
       "      <td>2004-03-01</td>\n",
       "      <td>Mar</td>\n",
       "      <td>Mar - 04</td>\n",
       "    </tr>\n",
       "  </tbody>\n",
       "</table>\n",
       "</div>"
      ],
      "text/plain": [
       "          Ridership  month_num       Date month      year\n",
       "year                                                     \n",
       "Nov - 03   2076.054        155 2003-11-01   Nov  Nov - 03\n",
       "Dec - 03   2140.677        156 2003-12-01   Dec  Dec - 03\n",
       "Jan - 04   1831.508        157 2004-01-01   Jan  Jan - 04\n",
       "Feb - 04   1838.006        158 2004-02-01   Feb  Feb - 04\n",
       "Mar - 04   2132.446        159 2004-03-01   Mar  Mar - 04"
      ]
     },
     "execution_count": 152,
     "metadata": {},
     "output_type": "execute_result"
    }
   ],
   "source": [
    "amtrak.tail()"
   ]
  },
  {
   "cell_type": "code",
   "execution_count": 153,
   "id": "f98abe53",
   "metadata": {},
   "outputs": [
    {
     "data": {
      "text/html": [
       "<div>\n",
       "<style scoped>\n",
       "    .dataframe tbody tr th:only-of-type {\n",
       "        vertical-align: middle;\n",
       "    }\n",
       "\n",
       "    .dataframe tbody tr th {\n",
       "        vertical-align: top;\n",
       "    }\n",
       "\n",
       "    .dataframe thead th {\n",
       "        text-align: right;\n",
       "    }\n",
       "</style>\n",
       "<table border=\"1\" class=\"dataframe\">\n",
       "  <thead>\n",
       "    <tr style=\"text-align: right;\">\n",
       "      <th></th>\n",
       "      <th>Apr</th>\n",
       "      <th>Aug</th>\n",
       "      <th>Dec</th>\n",
       "      <th>Feb</th>\n",
       "      <th>Jan</th>\n",
       "      <th>Jul</th>\n",
       "      <th>Jun</th>\n",
       "      <th>Mar</th>\n",
       "      <th>May</th>\n",
       "      <th>Nov</th>\n",
       "      <th>Oct</th>\n",
       "      <th>Sep</th>\n",
       "    </tr>\n",
       "    <tr>\n",
       "      <th>year</th>\n",
       "      <th></th>\n",
       "      <th></th>\n",
       "      <th></th>\n",
       "      <th></th>\n",
       "      <th></th>\n",
       "      <th></th>\n",
       "      <th></th>\n",
       "      <th></th>\n",
       "      <th></th>\n",
       "      <th></th>\n",
       "      <th></th>\n",
       "      <th></th>\n",
       "    </tr>\n",
       "  </thead>\n",
       "  <tbody>\n",
       "    <tr>\n",
       "      <th>Jan - 91</th>\n",
       "      <td>0</td>\n",
       "      <td>0</td>\n",
       "      <td>0</td>\n",
       "      <td>0</td>\n",
       "      <td>1</td>\n",
       "      <td>0</td>\n",
       "      <td>0</td>\n",
       "      <td>0</td>\n",
       "      <td>0</td>\n",
       "      <td>0</td>\n",
       "      <td>0</td>\n",
       "      <td>0</td>\n",
       "    </tr>\n",
       "    <tr>\n",
       "      <th>Feb - 91</th>\n",
       "      <td>0</td>\n",
       "      <td>0</td>\n",
       "      <td>0</td>\n",
       "      <td>1</td>\n",
       "      <td>0</td>\n",
       "      <td>0</td>\n",
       "      <td>0</td>\n",
       "      <td>0</td>\n",
       "      <td>0</td>\n",
       "      <td>0</td>\n",
       "      <td>0</td>\n",
       "      <td>0</td>\n",
       "    </tr>\n",
       "    <tr>\n",
       "      <th>Mar - 91</th>\n",
       "      <td>0</td>\n",
       "      <td>0</td>\n",
       "      <td>0</td>\n",
       "      <td>0</td>\n",
       "      <td>0</td>\n",
       "      <td>0</td>\n",
       "      <td>0</td>\n",
       "      <td>1</td>\n",
       "      <td>0</td>\n",
       "      <td>0</td>\n",
       "      <td>0</td>\n",
       "      <td>0</td>\n",
       "    </tr>\n",
       "    <tr>\n",
       "      <th>Apr - 91</th>\n",
       "      <td>1</td>\n",
       "      <td>0</td>\n",
       "      <td>0</td>\n",
       "      <td>0</td>\n",
       "      <td>0</td>\n",
       "      <td>0</td>\n",
       "      <td>0</td>\n",
       "      <td>0</td>\n",
       "      <td>0</td>\n",
       "      <td>0</td>\n",
       "      <td>0</td>\n",
       "      <td>0</td>\n",
       "    </tr>\n",
       "    <tr>\n",
       "      <th>May - 91</th>\n",
       "      <td>0</td>\n",
       "      <td>0</td>\n",
       "      <td>0</td>\n",
       "      <td>0</td>\n",
       "      <td>0</td>\n",
       "      <td>0</td>\n",
       "      <td>0</td>\n",
       "      <td>0</td>\n",
       "      <td>1</td>\n",
       "      <td>0</td>\n",
       "      <td>0</td>\n",
       "      <td>0</td>\n",
       "    </tr>\n",
       "    <tr>\n",
       "      <th>...</th>\n",
       "      <td>...</td>\n",
       "      <td>...</td>\n",
       "      <td>...</td>\n",
       "      <td>...</td>\n",
       "      <td>...</td>\n",
       "      <td>...</td>\n",
       "      <td>...</td>\n",
       "      <td>...</td>\n",
       "      <td>...</td>\n",
       "      <td>...</td>\n",
       "      <td>...</td>\n",
       "      <td>...</td>\n",
       "    </tr>\n",
       "    <tr>\n",
       "      <th>Nov - 03</th>\n",
       "      <td>0</td>\n",
       "      <td>0</td>\n",
       "      <td>0</td>\n",
       "      <td>0</td>\n",
       "      <td>0</td>\n",
       "      <td>0</td>\n",
       "      <td>0</td>\n",
       "      <td>0</td>\n",
       "      <td>0</td>\n",
       "      <td>1</td>\n",
       "      <td>0</td>\n",
       "      <td>0</td>\n",
       "    </tr>\n",
       "    <tr>\n",
       "      <th>Dec - 03</th>\n",
       "      <td>0</td>\n",
       "      <td>0</td>\n",
       "      <td>1</td>\n",
       "      <td>0</td>\n",
       "      <td>0</td>\n",
       "      <td>0</td>\n",
       "      <td>0</td>\n",
       "      <td>0</td>\n",
       "      <td>0</td>\n",
       "      <td>0</td>\n",
       "      <td>0</td>\n",
       "      <td>0</td>\n",
       "    </tr>\n",
       "    <tr>\n",
       "      <th>Jan - 04</th>\n",
       "      <td>0</td>\n",
       "      <td>0</td>\n",
       "      <td>0</td>\n",
       "      <td>0</td>\n",
       "      <td>1</td>\n",
       "      <td>0</td>\n",
       "      <td>0</td>\n",
       "      <td>0</td>\n",
       "      <td>0</td>\n",
       "      <td>0</td>\n",
       "      <td>0</td>\n",
       "      <td>0</td>\n",
       "    </tr>\n",
       "    <tr>\n",
       "      <th>Feb - 04</th>\n",
       "      <td>0</td>\n",
       "      <td>0</td>\n",
       "      <td>0</td>\n",
       "      <td>1</td>\n",
       "      <td>0</td>\n",
       "      <td>0</td>\n",
       "      <td>0</td>\n",
       "      <td>0</td>\n",
       "      <td>0</td>\n",
       "      <td>0</td>\n",
       "      <td>0</td>\n",
       "      <td>0</td>\n",
       "    </tr>\n",
       "    <tr>\n",
       "      <th>Mar - 04</th>\n",
       "      <td>0</td>\n",
       "      <td>0</td>\n",
       "      <td>0</td>\n",
       "      <td>0</td>\n",
       "      <td>0</td>\n",
       "      <td>0</td>\n",
       "      <td>0</td>\n",
       "      <td>1</td>\n",
       "      <td>0</td>\n",
       "      <td>0</td>\n",
       "      <td>0</td>\n",
       "      <td>0</td>\n",
       "    </tr>\n",
       "  </tbody>\n",
       "</table>\n",
       "<p>159 rows × 12 columns</p>\n",
       "</div>"
      ],
      "text/plain": [
       "          Apr  Aug  Dec  Feb  Jan  Jul  Jun  Mar  May  Nov  Oct  Sep\n",
       "year                                                                \n",
       "Jan - 91    0    0    0    0    1    0    0    0    0    0    0    0\n",
       "Feb - 91    0    0    0    1    0    0    0    0    0    0    0    0\n",
       "Mar - 91    0    0    0    0    0    0    0    1    0    0    0    0\n",
       "Apr - 91    1    0    0    0    0    0    0    0    0    0    0    0\n",
       "May - 91    0    0    0    0    0    0    0    0    1    0    0    0\n",
       "...       ...  ...  ...  ...  ...  ...  ...  ...  ...  ...  ...  ...\n",
       "Nov - 03    0    0    0    0    0    0    0    0    0    1    0    0\n",
       "Dec - 03    0    0    1    0    0    0    0    0    0    0    0    0\n",
       "Jan - 04    0    0    0    0    1    0    0    0    0    0    0    0\n",
       "Feb - 04    0    0    0    1    0    0    0    0    0    0    0    0\n",
       "Mar - 04    0    0    0    0    0    0    0    1    0    0    0    0\n",
       "\n",
       "[159 rows x 12 columns]"
      ]
     },
     "execution_count": 153,
     "metadata": {},
     "output_type": "execute_result"
    }
   ],
   "source": [
    "# monthly wise creating dummy variables\n",
    "pd.get_dummies(amtrak['month'])\n"
   ]
  },
  {
   "cell_type": "code",
   "execution_count": 154,
   "id": "e78b6fac",
   "metadata": {},
   "outputs": [],
   "source": [
    "# creating a dataframe using dummy varibale\n",
    "dummmy = pd.DataFrame(pd.get_dummies(amtrak['month']))\n"
   ]
  },
  {
   "cell_type": "code",
   "execution_count": 155,
   "id": "52a08e04",
   "metadata": {},
   "outputs": [
    {
     "data": {
      "text/html": [
       "<div>\n",
       "<style scoped>\n",
       "    .dataframe tbody tr th:only-of-type {\n",
       "        vertical-align: middle;\n",
       "    }\n",
       "\n",
       "    .dataframe tbody tr th {\n",
       "        vertical-align: top;\n",
       "    }\n",
       "\n",
       "    .dataframe thead th {\n",
       "        text-align: right;\n",
       "    }\n",
       "</style>\n",
       "<table border=\"1\" class=\"dataframe\">\n",
       "  <thead>\n",
       "    <tr style=\"text-align: right;\">\n",
       "      <th></th>\n",
       "      <th>Ridership</th>\n",
       "      <th>month_num</th>\n",
       "      <th>Date</th>\n",
       "      <th>month</th>\n",
       "      <th>year</th>\n",
       "    </tr>\n",
       "    <tr>\n",
       "      <th>year</th>\n",
       "      <th></th>\n",
       "      <th></th>\n",
       "      <th></th>\n",
       "      <th></th>\n",
       "      <th></th>\n",
       "    </tr>\n",
       "  </thead>\n",
       "  <tbody>\n",
       "    <tr>\n",
       "      <th>Nov - 03</th>\n",
       "      <td>2076.054</td>\n",
       "      <td>155</td>\n",
       "      <td>2003-11-01</td>\n",
       "      <td>Nov</td>\n",
       "      <td>Nov - 03</td>\n",
       "    </tr>\n",
       "    <tr>\n",
       "      <th>Dec - 03</th>\n",
       "      <td>2140.677</td>\n",
       "      <td>156</td>\n",
       "      <td>2003-12-01</td>\n",
       "      <td>Dec</td>\n",
       "      <td>Dec - 03</td>\n",
       "    </tr>\n",
       "    <tr>\n",
       "      <th>Jan - 04</th>\n",
       "      <td>1831.508</td>\n",
       "      <td>157</td>\n",
       "      <td>2004-01-01</td>\n",
       "      <td>Jan</td>\n",
       "      <td>Jan - 04</td>\n",
       "    </tr>\n",
       "    <tr>\n",
       "      <th>Feb - 04</th>\n",
       "      <td>1838.006</td>\n",
       "      <td>158</td>\n",
       "      <td>2004-02-01</td>\n",
       "      <td>Feb</td>\n",
       "      <td>Feb - 04</td>\n",
       "    </tr>\n",
       "    <tr>\n",
       "      <th>Mar - 04</th>\n",
       "      <td>2132.446</td>\n",
       "      <td>159</td>\n",
       "      <td>2004-03-01</td>\n",
       "      <td>Mar</td>\n",
       "      <td>Mar - 04</td>\n",
       "    </tr>\n",
       "  </tbody>\n",
       "</table>\n",
       "</div>"
      ],
      "text/plain": [
       "          Ridership  month_num       Date month      year\n",
       "year                                                     \n",
       "Nov - 03   2076.054        155 2003-11-01   Nov  Nov - 03\n",
       "Dec - 03   2140.677        156 2003-12-01   Dec  Dec - 03\n",
       "Jan - 04   1831.508        157 2004-01-01   Jan  Jan - 04\n",
       "Feb - 04   1838.006        158 2004-02-01   Feb  Feb - 04\n",
       "Mar - 04   2132.446        159 2004-03-01   Mar  Mar - 04"
      ]
     },
     "execution_count": 155,
     "metadata": {},
     "output_type": "execute_result"
    }
   ],
   "source": [
    "amtrak.tail()"
   ]
  },
  {
   "cell_type": "code",
   "execution_count": 156,
   "id": "bfff3e03",
   "metadata": {},
   "outputs": [],
   "source": [
    "amtrak = pd.concat([amtrak,dummmy], axis =1)"
   ]
  },
  {
   "cell_type": "code",
   "execution_count": 157,
   "id": "d131f854",
   "metadata": {},
   "outputs": [],
   "source": [
    "amtrak.reset_index(inplace = True,drop = True)"
   ]
  },
  {
   "cell_type": "code",
   "execution_count": 158,
   "id": "15812703",
   "metadata": {},
   "outputs": [
    {
     "data": {
      "text/html": [
       "<div>\n",
       "<style scoped>\n",
       "    .dataframe tbody tr th:only-of-type {\n",
       "        vertical-align: middle;\n",
       "    }\n",
       "\n",
       "    .dataframe tbody tr th {\n",
       "        vertical-align: top;\n",
       "    }\n",
       "\n",
       "    .dataframe thead th {\n",
       "        text-align: right;\n",
       "    }\n",
       "</style>\n",
       "<table border=\"1\" class=\"dataframe\">\n",
       "  <thead>\n",
       "    <tr style=\"text-align: right;\">\n",
       "      <th></th>\n",
       "      <th>Ridership</th>\n",
       "      <th>month_num</th>\n",
       "      <th>Date</th>\n",
       "      <th>month</th>\n",
       "      <th>year</th>\n",
       "      <th>Apr</th>\n",
       "      <th>Aug</th>\n",
       "      <th>Dec</th>\n",
       "      <th>Feb</th>\n",
       "      <th>Jan</th>\n",
       "      <th>Jul</th>\n",
       "      <th>Jun</th>\n",
       "      <th>Mar</th>\n",
       "      <th>May</th>\n",
       "      <th>Nov</th>\n",
       "      <th>Oct</th>\n",
       "      <th>Sep</th>\n",
       "    </tr>\n",
       "  </thead>\n",
       "  <tbody>\n",
       "    <tr>\n",
       "      <th>0</th>\n",
       "      <td>1708.917</td>\n",
       "      <td>1</td>\n",
       "      <td>1991-01-01</td>\n",
       "      <td>Jan</td>\n",
       "      <td>Jan - 91</td>\n",
       "      <td>0</td>\n",
       "      <td>0</td>\n",
       "      <td>0</td>\n",
       "      <td>0</td>\n",
       "      <td>1</td>\n",
       "      <td>0</td>\n",
       "      <td>0</td>\n",
       "      <td>0</td>\n",
       "      <td>0</td>\n",
       "      <td>0</td>\n",
       "      <td>0</td>\n",
       "      <td>0</td>\n",
       "    </tr>\n",
       "    <tr>\n",
       "      <th>1</th>\n",
       "      <td>1620.586</td>\n",
       "      <td>2</td>\n",
       "      <td>1991-02-01</td>\n",
       "      <td>Feb</td>\n",
       "      <td>Feb - 91</td>\n",
       "      <td>0</td>\n",
       "      <td>0</td>\n",
       "      <td>0</td>\n",
       "      <td>1</td>\n",
       "      <td>0</td>\n",
       "      <td>0</td>\n",
       "      <td>0</td>\n",
       "      <td>0</td>\n",
       "      <td>0</td>\n",
       "      <td>0</td>\n",
       "      <td>0</td>\n",
       "      <td>0</td>\n",
       "    </tr>\n",
       "    <tr>\n",
       "      <th>2</th>\n",
       "      <td>1972.715</td>\n",
       "      <td>3</td>\n",
       "      <td>1991-03-01</td>\n",
       "      <td>Mar</td>\n",
       "      <td>Mar - 91</td>\n",
       "      <td>0</td>\n",
       "      <td>0</td>\n",
       "      <td>0</td>\n",
       "      <td>0</td>\n",
       "      <td>0</td>\n",
       "      <td>0</td>\n",
       "      <td>0</td>\n",
       "      <td>1</td>\n",
       "      <td>0</td>\n",
       "      <td>0</td>\n",
       "      <td>0</td>\n",
       "      <td>0</td>\n",
       "    </tr>\n",
       "    <tr>\n",
       "      <th>3</th>\n",
       "      <td>1811.665</td>\n",
       "      <td>4</td>\n",
       "      <td>1991-04-01</td>\n",
       "      <td>Apr</td>\n",
       "      <td>Apr - 91</td>\n",
       "      <td>1</td>\n",
       "      <td>0</td>\n",
       "      <td>0</td>\n",
       "      <td>0</td>\n",
       "      <td>0</td>\n",
       "      <td>0</td>\n",
       "      <td>0</td>\n",
       "      <td>0</td>\n",
       "      <td>0</td>\n",
       "      <td>0</td>\n",
       "      <td>0</td>\n",
       "      <td>0</td>\n",
       "    </tr>\n",
       "    <tr>\n",
       "      <th>4</th>\n",
       "      <td>1974.964</td>\n",
       "      <td>5</td>\n",
       "      <td>1991-05-01</td>\n",
       "      <td>May</td>\n",
       "      <td>May - 91</td>\n",
       "      <td>0</td>\n",
       "      <td>0</td>\n",
       "      <td>0</td>\n",
       "      <td>0</td>\n",
       "      <td>0</td>\n",
       "      <td>0</td>\n",
       "      <td>0</td>\n",
       "      <td>0</td>\n",
       "      <td>1</td>\n",
       "      <td>0</td>\n",
       "      <td>0</td>\n",
       "      <td>0</td>\n",
       "    </tr>\n",
       "  </tbody>\n",
       "</table>\n",
       "</div>"
      ],
      "text/plain": [
       "   Ridership  month_num       Date month      year  Apr  Aug  Dec  Feb  Jan  \\\n",
       "0   1708.917          1 1991-01-01   Jan  Jan - 91    0    0    0    0    1   \n",
       "1   1620.586          2 1991-02-01   Feb  Feb - 91    0    0    0    1    0   \n",
       "2   1972.715          3 1991-03-01   Mar  Mar - 91    0    0    0    0    0   \n",
       "3   1811.665          4 1991-04-01   Apr  Apr - 91    1    0    0    0    0   \n",
       "4   1974.964          5 1991-05-01   May  May - 91    0    0    0    0    0   \n",
       "\n",
       "   Jul  Jun  Mar  May  Nov  Oct  Sep  \n",
       "0    0    0    0    0    0    0    0  \n",
       "1    0    0    0    0    0    0    0  \n",
       "2    0    0    1    0    0    0    0  \n",
       "3    0    0    0    0    0    0    0  \n",
       "4    0    0    0    1    0    0    0  "
      ]
     },
     "execution_count": 158,
     "metadata": {},
     "output_type": "execute_result"
    }
   ],
   "source": [
    "amtrak.head()"
   ]
  },
  {
   "cell_type": "code",
   "execution_count": 159,
   "id": "8abd7490",
   "metadata": {},
   "outputs": [],
   "source": [
    "# drop the columns Date, month, year\n",
    "amtrak_1 = amtrak.drop([\"Date\",\"month\", \"year\"],axis = 1)\n"
   ]
  },
  {
   "cell_type": "code",
   "execution_count": 161,
   "id": "15b0d819",
   "metadata": {},
   "outputs": [
    {
     "data": {
      "text/html": [
       "<div>\n",
       "<style scoped>\n",
       "    .dataframe tbody tr th:only-of-type {\n",
       "        vertical-align: middle;\n",
       "    }\n",
       "\n",
       "    .dataframe tbody tr th {\n",
       "        vertical-align: top;\n",
       "    }\n",
       "\n",
       "    .dataframe thead th {\n",
       "        text-align: right;\n",
       "    }\n",
       "</style>\n",
       "<table border=\"1\" class=\"dataframe\">\n",
       "  <thead>\n",
       "    <tr style=\"text-align: right;\">\n",
       "      <th></th>\n",
       "      <th>Ridership</th>\n",
       "      <th>month_num</th>\n",
       "      <th>Apr</th>\n",
       "      <th>Aug</th>\n",
       "      <th>Dec</th>\n",
       "      <th>Feb</th>\n",
       "      <th>Jan</th>\n",
       "      <th>Jul</th>\n",
       "      <th>Jun</th>\n",
       "      <th>Mar</th>\n",
       "      <th>May</th>\n",
       "      <th>Nov</th>\n",
       "      <th>Oct</th>\n",
       "      <th>Sep</th>\n",
       "    </tr>\n",
       "  </thead>\n",
       "  <tbody>\n",
       "    <tr>\n",
       "      <th>0</th>\n",
       "      <td>1708.917</td>\n",
       "      <td>1</td>\n",
       "      <td>0</td>\n",
       "      <td>0</td>\n",
       "      <td>0</td>\n",
       "      <td>0</td>\n",
       "      <td>1</td>\n",
       "      <td>0</td>\n",
       "      <td>0</td>\n",
       "      <td>0</td>\n",
       "      <td>0</td>\n",
       "      <td>0</td>\n",
       "      <td>0</td>\n",
       "      <td>0</td>\n",
       "    </tr>\n",
       "    <tr>\n",
       "      <th>1</th>\n",
       "      <td>1620.586</td>\n",
       "      <td>2</td>\n",
       "      <td>0</td>\n",
       "      <td>0</td>\n",
       "      <td>0</td>\n",
       "      <td>1</td>\n",
       "      <td>0</td>\n",
       "      <td>0</td>\n",
       "      <td>0</td>\n",
       "      <td>0</td>\n",
       "      <td>0</td>\n",
       "      <td>0</td>\n",
       "      <td>0</td>\n",
       "      <td>0</td>\n",
       "    </tr>\n",
       "    <tr>\n",
       "      <th>2</th>\n",
       "      <td>1972.715</td>\n",
       "      <td>3</td>\n",
       "      <td>0</td>\n",
       "      <td>0</td>\n",
       "      <td>0</td>\n",
       "      <td>0</td>\n",
       "      <td>0</td>\n",
       "      <td>0</td>\n",
       "      <td>0</td>\n",
       "      <td>1</td>\n",
       "      <td>0</td>\n",
       "      <td>0</td>\n",
       "      <td>0</td>\n",
       "      <td>0</td>\n",
       "    </tr>\n",
       "    <tr>\n",
       "      <th>3</th>\n",
       "      <td>1811.665</td>\n",
       "      <td>4</td>\n",
       "      <td>1</td>\n",
       "      <td>0</td>\n",
       "      <td>0</td>\n",
       "      <td>0</td>\n",
       "      <td>0</td>\n",
       "      <td>0</td>\n",
       "      <td>0</td>\n",
       "      <td>0</td>\n",
       "      <td>0</td>\n",
       "      <td>0</td>\n",
       "      <td>0</td>\n",
       "      <td>0</td>\n",
       "    </tr>\n",
       "    <tr>\n",
       "      <th>4</th>\n",
       "      <td>1974.964</td>\n",
       "      <td>5</td>\n",
       "      <td>0</td>\n",
       "      <td>0</td>\n",
       "      <td>0</td>\n",
       "      <td>0</td>\n",
       "      <td>0</td>\n",
       "      <td>0</td>\n",
       "      <td>0</td>\n",
       "      <td>0</td>\n",
       "      <td>1</td>\n",
       "      <td>0</td>\n",
       "      <td>0</td>\n",
       "      <td>0</td>\n",
       "    </tr>\n",
       "  </tbody>\n",
       "</table>\n",
       "</div>"
      ],
      "text/plain": [
       "   Ridership  month_num  Apr  Aug  Dec  Feb  Jan  Jul  Jun  Mar  May  Nov  \\\n",
       "0   1708.917          1    0    0    0    0    1    0    0    0    0    0   \n",
       "1   1620.586          2    0    0    0    1    0    0    0    0    0    0   \n",
       "2   1972.715          3    0    0    0    0    0    0    0    1    0    0   \n",
       "3   1811.665          4    1    0    0    0    0    0    0    0    0    0   \n",
       "4   1974.964          5    0    0    0    0    0    0    0    0    1    0   \n",
       "\n",
       "   Oct  Sep  \n",
       "0    0    0  \n",
       "1    0    0  \n",
       "2    0    0  \n",
       "3    0    0  \n",
       "4    0    0  "
      ]
     },
     "execution_count": 161,
     "metadata": {},
     "output_type": "execute_result"
    }
   ],
   "source": [
    "amtrak_1.head()"
   ]
  },
  {
   "cell_type": "code",
   "execution_count": 162,
   "id": "4507517f",
   "metadata": {},
   "outputs": [
    {
     "data": {
      "text/plain": [
       "(159, 14)"
      ]
     },
     "execution_count": 162,
     "metadata": {},
     "output_type": "execute_result"
    }
   ],
   "source": [
    "amtrak_1.shape"
   ]
  },
  {
   "cell_type": "code",
   "execution_count": 163,
   "id": "4c6f7b39",
   "metadata": {},
   "outputs": [
    {
     "data": {
      "text/plain": [
       "Index(['Ridership', 'month_num', 'Apr', 'Aug', 'Dec', 'Feb', 'Jan', 'Jul',\n",
       "       'Jun', 'Mar', 'May', 'Nov', 'Oct', 'Sep'],\n",
       "      dtype='object')"
      ]
     },
     "execution_count": 163,
     "metadata": {},
     "output_type": "execute_result"
    }
   ],
   "source": [
    "## to the list of columns of amtrak_1\n",
    "amtrak_1.columns\n"
   ]
  },
  {
   "cell_type": "code",
   "execution_count": 165,
   "id": "5a70eeaf",
   "metadata": {},
   "outputs": [],
   "source": [
    "## splitting the data file into train data \n",
    "train_x = amtrak_1.iloc[0:144,1:15]\n",
    "train_y = amtrak_1.iloc[0:144,0]"
   ]
  },
  {
   "cell_type": "code",
   "execution_count": 167,
   "id": "074acf31",
   "metadata": {},
   "outputs": [],
   "source": [
    "## spling the data file into test data\n",
    "test_x = amtrak_1.iloc[144:159,1:15]\n",
    "test_y = amtrak_1.iloc[144:159,0]"
   ]
  },
  {
   "cell_type": "code",
   "execution_count": 168,
   "id": "8242f3da",
   "metadata": {},
   "outputs": [],
   "source": [
    "## seasonal componet \n",
    "## model tuneing \n",
    "LR_ses = LR()"
   ]
  },
  {
   "cell_type": "code",
   "execution_count": 169,
   "id": "67f4956d",
   "metadata": {},
   "outputs": [
    {
     "data": {
      "text/plain": [
       "LinearRegression()"
      ]
     },
     "execution_count": 169,
     "metadata": {},
     "output_type": "execute_result"
    }
   ],
   "source": [
    "### fitting the model\n",
    "LR_ses.fit(train_x,train_y)"
   ]
  },
  {
   "cell_type": "code",
   "execution_count": 170,
   "id": "3ae233d2",
   "metadata": {},
   "outputs": [
    {
     "data": {
      "text/plain": [
       "-0.22489182020059073"
      ]
     },
     "execution_count": 170,
     "metadata": {},
     "output_type": "execute_result"
    }
   ],
   "source": [
    "## accuracy of the model \n",
    "LR_ses.score(test_x,test_y)"
   ]
  },
  {
   "cell_type": "code",
   "execution_count": 172,
   "id": "c9fa2971",
   "metadata": {},
   "outputs": [
    {
     "name": "stdout",
     "output_type": "stream",
     "text": [
      "prediction of the LR_ses model [1678.16667614 1639.7278428  1938.89400947 1943.95900947 1975.1993428\n",
      " 1933.8480928  2038.30325947 2083.3493428  1750.3218428  1889.83017614\n",
      " 1879.99250947 1924.13592614 1691.81638272 1653.37754939 1952.54371605]\n"
     ]
    }
   ],
   "source": [
    "## predict the model\n",
    "pred_y = LR_ses.predict(test_x)\n",
    "print( 'prediction of the LR_ses model', pred_y)"
   ]
  },
  {
   "cell_type": "code",
   "execution_count": 174,
   "id": "3aaf6977",
   "metadata": {},
   "outputs": [
    {
     "data": {
      "text/html": [
       "<div>\n",
       "<style scoped>\n",
       "    .dataframe tbody tr th:only-of-type {\n",
       "        vertical-align: middle;\n",
       "    }\n",
       "\n",
       "    .dataframe tbody tr th {\n",
       "        vertical-align: top;\n",
       "    }\n",
       "\n",
       "    .dataframe thead th {\n",
       "        text-align: right;\n",
       "    }\n",
       "</style>\n",
       "<table border=\"1\" class=\"dataframe\">\n",
       "  <thead>\n",
       "    <tr style=\"text-align: right;\">\n",
       "      <th></th>\n",
       "      <th>0</th>\n",
       "    </tr>\n",
       "  </thead>\n",
       "  <tbody>\n",
       "    <tr>\n",
       "      <th>0</th>\n",
       "      <td>160</td>\n",
       "    </tr>\n",
       "    <tr>\n",
       "      <th>1</th>\n",
       "      <td>161</td>\n",
       "    </tr>\n",
       "    <tr>\n",
       "      <th>2</th>\n",
       "      <td>162</td>\n",
       "    </tr>\n",
       "  </tbody>\n",
       "</table>\n",
       "</div>"
      ],
      "text/plain": [
       "     0\n",
       "0  160\n",
       "1  161\n",
       "2  162"
      ]
     },
     "execution_count": 174,
     "metadata": {},
     "output_type": "execute_result"
    }
   ],
   "source": [
    "## forcasting the model\n",
    "forcast_x = pd.DataFrame(forcast_x)\n",
    "forcast_x"
   ]
  },
  {
   "cell_type": "code",
   "execution_count": 177,
   "id": "964dab6f",
   "metadata": {},
   "outputs": [
    {
     "data": {
      "text/html": [
       "<div>\n",
       "<style scoped>\n",
       "    .dataframe tbody tr th:only-of-type {\n",
       "        vertical-align: middle;\n",
       "    }\n",
       "\n",
       "    .dataframe tbody tr th {\n",
       "        vertical-align: top;\n",
       "    }\n",
       "\n",
       "    .dataframe thead th {\n",
       "        text-align: right;\n",
       "    }\n",
       "</style>\n",
       "<table border=\"1\" class=\"dataframe\">\n",
       "  <thead>\n",
       "    <tr style=\"text-align: right;\">\n",
       "      <th></th>\n",
       "      <th>0</th>\n",
       "      <th>month</th>\n",
       "    </tr>\n",
       "  </thead>\n",
       "  <tbody>\n",
       "    <tr>\n",
       "      <th>0</th>\n",
       "      <td>160</td>\n",
       "      <td>Apr</td>\n",
       "    </tr>\n",
       "    <tr>\n",
       "      <th>1</th>\n",
       "      <td>161</td>\n",
       "      <td>May</td>\n",
       "    </tr>\n",
       "    <tr>\n",
       "      <th>2</th>\n",
       "      <td>162</td>\n",
       "      <td>Jun</td>\n",
       "    </tr>\n",
       "  </tbody>\n",
       "</table>\n",
       "</div>"
      ],
      "text/plain": [
       "     0 month\n",
       "0  160   Apr\n",
       "1  161   May\n",
       "2  162   Jun"
      ]
     },
     "execution_count": 177,
     "metadata": {},
     "output_type": "execute_result"
    }
   ],
   "source": [
    "forcast_x[\"month\"] = [\"Apr\",\"May\", \"Jun\"]\n",
    "forcast_x"
   ]
  },
  {
   "cell_type": "code",
   "execution_count": 181,
   "id": "ac58b70f",
   "metadata": {},
   "outputs": [
    {
     "name": "stdout",
     "output_type": "stream",
     "text": [
      "forcasting the columns is Index(['mon_num', 'month'], dtype='object')\n"
     ]
    }
   ],
   "source": [
    "forcast_x.columns = [\"mon_num\", \"month\"]\n",
    "print('forcasting the columns is',forcast_x.columns)"
   ]
  },
  {
   "cell_type": "code",
   "execution_count": 182,
   "id": "15973c62",
   "metadata": {},
   "outputs": [],
   "source": [
    "dummy = pd.get_dummies(forcast_x[\"month\"])"
   ]
  },
  {
   "cell_type": "code",
   "execution_count": 191,
   "id": "bb1b7dcc",
   "metadata": {},
   "outputs": [
    {
     "name": "stdout",
     "output_type": "stream",
     "text": [
      "dummy vaible will be added to the forcast \n",
      "    Apr  Jun  May\n",
      "0    1    0    0\n",
      "1    0    0    1\n",
      "2    0    1    0\n"
     ]
    }
   ],
   "source": [
    "print( 'dummy vaible will be added to the forcast',  '\\n', dummy)"
   ]
  },
  {
   "cell_type": "code",
   "execution_count": 192,
   "id": "f1f96433",
   "metadata": {},
   "outputs": [],
   "source": [
    "forcast_x = pd.concat([forcast_x[\"mon_num\"],dummy], axis = 1)"
   ]
  },
  {
   "cell_type": "code",
   "execution_count": 193,
   "id": "c41b61c2",
   "metadata": {},
   "outputs": [
    {
     "data": {
      "text/html": [
       "<div>\n",
       "<style scoped>\n",
       "    .dataframe tbody tr th:only-of-type {\n",
       "        vertical-align: middle;\n",
       "    }\n",
       "\n",
       "    .dataframe tbody tr th {\n",
       "        vertical-align: top;\n",
       "    }\n",
       "\n",
       "    .dataframe thead th {\n",
       "        text-align: right;\n",
       "    }\n",
       "</style>\n",
       "<table border=\"1\" class=\"dataframe\">\n",
       "  <thead>\n",
       "    <tr style=\"text-align: right;\">\n",
       "      <th></th>\n",
       "      <th>mon_num</th>\n",
       "      <th>Apr</th>\n",
       "      <th>Jun</th>\n",
       "      <th>May</th>\n",
       "    </tr>\n",
       "  </thead>\n",
       "  <tbody>\n",
       "    <tr>\n",
       "      <th>0</th>\n",
       "      <td>160</td>\n",
       "      <td>1</td>\n",
       "      <td>0</td>\n",
       "      <td>0</td>\n",
       "    </tr>\n",
       "    <tr>\n",
       "      <th>1</th>\n",
       "      <td>161</td>\n",
       "      <td>0</td>\n",
       "      <td>0</td>\n",
       "      <td>1</td>\n",
       "    </tr>\n",
       "    <tr>\n",
       "      <th>2</th>\n",
       "      <td>162</td>\n",
       "      <td>0</td>\n",
       "      <td>1</td>\n",
       "      <td>0</td>\n",
       "    </tr>\n",
       "  </tbody>\n",
       "</table>\n",
       "</div>"
      ],
      "text/plain": [
       "   mon_num  Apr  Jun  May\n",
       "0      160    1    0    0\n",
       "1      161    0    0    1\n",
       "2      162    0    1    0"
      ]
     },
     "execution_count": 193,
     "metadata": {},
     "output_type": "execute_result"
    }
   ],
   "source": [
    "forcast_x ## after concat the mon_num and months with dummy variables"
   ]
  },
  {
   "cell_type": "code",
   "execution_count": 196,
   "id": "22104839",
   "metadata": {},
   "outputs": [
    {
     "data": {
      "text/plain": [
       "166.88184796847236"
      ]
     },
     "execution_count": 196,
     "metadata": {},
     "output_type": "execute_result"
    }
   ],
   "source": [
    "###RMSE - Root mean square error for with seasonality\n",
    "from sklearn import metrics\n",
    "metrics.mean_squared_error(test_y,pred_y, squared = False)"
   ]
  },
  {
   "cell_type": "code",
   "execution_count": 198,
   "id": "26f1548b",
   "metadata": {},
   "outputs": [
    {
     "data": {
      "text/plain": [
       "197.247052024781"
      ]
     },
     "execution_count": 198,
     "metadata": {},
     "output_type": "execute_result"
    }
   ],
   "source": [
    "#MSE for LR model\n",
    "metrics.mean_squared_error(test_y,predict, squared = False)"
   ]
  },
  {
   "cell_type": "code",
   "execution_count": 235,
   "id": "eb8fa511",
   "metadata": {},
   "outputs": [],
   "source": [
    "# Using MAPE error metrics to check for the error rate and accuracy level\n",
    "\n",
    "#Defining MAPE function\n",
    "def MAPE(test_y,Predict):\n",
    "    temp=np.abs(test_y - Predict)/100\n",
    "    return np.mean(temp)"
   ]
  },
  {
   "cell_type": "code",
   "execution_count": null,
   "id": "a961ba52",
   "metadata": {},
   "outputs": [],
   "source": [
    "\n"
   ]
  },
  {
   "cell_type": "code",
   "execution_count": 199,
   "id": "8cf0dc02",
   "metadata": {},
   "outputs": [],
   "source": [
    "#### TIMESERIES MODELS ####\n",
    "###If your data does not have trend or seasonal component - You choose the following Time series Analays\n",
    "# 1.Moving Average\n",
    "# 2.Single Exponential Smoothing \n",
    "### If Your data have a trend but do not have a seasonal component - You choose following Time Series\n",
    "# 3.Trend Analysis \n",
    "# 4. Double Expontiel Smoothing\n",
    "###IF your data have seasinol component with or without trend - You can Choose \n",
    "# 5. Decomposition \n",
    "# 6. Holt's winter Method\n",
    "# ARIMA (Auto Regressive Integrated Moving Average ) - You choose this all scenrio"
   ]
  },
  {
   "cell_type": "code",
   "execution_count": null,
   "id": "d855f9f2",
   "metadata": {},
   "outputs": [],
   "source": []
  },
  {
   "cell_type": "code",
   "execution_count": null,
   "id": "c909f5a2",
   "metadata": {},
   "outputs": [],
   "source": []
  }
 ],
 "metadata": {
  "kernelspec": {
   "display_name": "Python 3",
   "language": "python",
   "name": "python3"
  },
  "language_info": {
   "codemirror_mode": {
    "name": "ipython",
    "version": 3
   },
   "file_extension": ".py",
   "mimetype": "text/x-python",
   "name": "python",
   "nbconvert_exporter": "python",
   "pygments_lexer": "ipython3",
   "version": "3.8.8"
  }
 },
 "nbformat": 4,
 "nbformat_minor": 5
}
